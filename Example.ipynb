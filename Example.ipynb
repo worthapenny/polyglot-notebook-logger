{
 "cells": [
  {
   "cell_type": "markdown",
   "metadata": {},
   "source": [
    "# Logging with Polyglot.Notebook.Logger"
   ]
  },
  {
   "cell_type": "markdown",
   "metadata": {},
   "source": [
    "## Out of the Box Example"
   ]
  },
  {
   "cell_type": "code",
   "execution_count": 1,
   "metadata": {
    "dotnet_interactive": {
     "language": "csharp"
    },
    "polyglot_notebook": {
     "kernelName": "csharp"
    }
   },
   "outputs": [],
   "source": [
    "// #r \"nuget: Polyglot.Notebook.Logger\"\n",
    "#r \"..\\..\\Output\\bin\\Debug\\net6.0\\Polyglot.Notebook.Logger.dll\""
   ]
  },
  {
   "cell_type": "code",
   "execution_count": 2,
   "metadata": {
    "dotnet_interactive": {
     "language": "csharp"
    },
    "polyglot_notebook": {
     "kernelName": "csharp"
    }
   },
   "outputs": [],
   "source": [
    "using Polyglot.Notebook.Logger;"
   ]
  },
  {
   "cell_type": "code",
   "execution_count": 3,
   "metadata": {
    "dotnet_interactive": {
     "language": "csharp"
    },
    "polyglot_notebook": {
     "kernelName": "csharp"
    }
   },
   "outputs": [
    {
     "name": "stdout",
     "output_type": "stream",
     "text": [
      "\u001b[95m02 11:25:10.16\u001b[0m \u001b[97m|\u001b[0m \u001b[94mDebug\u001b[0m \u001b[97m|\u001b[0m \u001b[34mThis is a debug message\u001b[0m\n",
      "\u001b[95m02 11:25:10.17\u001b[0m \u001b[97m|\u001b[0m \u001b[92mInfo \u001b[0m \u001b[97m|\u001b[0m \u001b[32mThis is an info message\u001b[0m\n",
      "\u001b[95m02 11:25:10.17\u001b[0m \u001b[97m|\u001b[0m \u001b[93mWarn \u001b[0m \u001b[97m|\u001b[0m \u001b[33mThis is a warning message\u001b[0m\n",
      "\u001b[95m02 11:25:10.17\u001b[0m \u001b[97m|\u001b[0m \u001b[101m\u001b[37mErr  \u001b[0m \u001b[97m|\u001b[0m \u001b[31mThis is an error message\u001b[0m\n",
      "\u001b[95m02 11:25:10.17\u001b[0m \u001b[97m|\u001b[0m \u001b[101m\u001b[37mCrit \u001b[0m \u001b[97m|\u001b[0m \u001b[101m\u001b[37mThis is a critical message\u001b[0m\n"
     ]
    }
   ],
   "source": [
    "\n",
    "Log.Debug(\"This is a debug message\");\n",
    "Log.Info(\"This is an info message\");\n",
    "Log.Warn(\"This is a warning message\");\n",
    "Log.Error(\"This is an error message\");\n",
    "Log.Critical(\"This is a critical message\");"
   ]
  },
  {
   "cell_type": "markdown",
   "metadata": {},
   "source": [
    "## Logging with a Given Name"
   ]
  },
  {
   "cell_type": "code",
   "execution_count": 4,
   "metadata": {
    "dotnet_interactive": {
     "language": "csharp"
    },
    "polyglot_notebook": {
     "kernelName": "csharp"
    }
   },
   "outputs": [
    {
     "name": "stdout",
     "output_type": "stream",
     "text": [
      "\u001b[95m02 11:25:10.32\u001b[0m \u001b[97m|\u001b[0m \u001b[94mDebug\u001b[0m \u001b[97m|\u001b[0m \u001b[34m[Program] This is a debug message\u001b[0m\n",
      "\u001b[95m02 11:25:10.32\u001b[0m \u001b[97m|\u001b[0m \u001b[92mInfo \u001b[0m \u001b[97m|\u001b[0m \u001b[32m[Program] This is an info message\u001b[0m\n",
      "\u001b[95m02 11:25:10.32\u001b[0m \u001b[97m|\u001b[0m \u001b[93mWarn \u001b[0m \u001b[97m|\u001b[0m \u001b[33m[Program] This is a warning message\u001b[0m\n",
      "\u001b[95m02 11:25:10.32\u001b[0m \u001b[97m|\u001b[0m \u001b[101m\u001b[37mErr  \u001b[0m \u001b[97m|\u001b[0m \u001b[31m[Program] This is an error message\u001b[0m\n",
      "\u001b[95m02 11:25:10.32\u001b[0m \u001b[97m|\u001b[0m \u001b[101m\u001b[37mCrit \u001b[0m \u001b[97m|\u001b[0m \u001b[101m\u001b[37m[Program] This is a critical message\u001b[0m\n"
     ]
    }
   ],
   "source": [
    "Log.PrefixName = \"Program\";\n",
    "\n",
    "Log.Debug(\"This is a debug message\");\n",
    "Log.Info(\"This is an info message\");\n",
    "Log.Warn(\"This is a warning message\");\n",
    "Log.Error(\"This is an error message\");\n",
    "Log.Critical(\"This is a critical message\");"
   ]
  },
  {
   "cell_type": "markdown",
   "metadata": {},
   "source": [
    "## Logging with Some Customization"
   ]
  },
  {
   "cell_type": "code",
   "execution_count": 6,
   "metadata": {
    "dotnet_interactive": {
     "language": "csharp"
    },
    "polyglot_notebook": {
     "kernelName": "csharp"
    }
   },
   "outputs": [
    {
     "name": "stdout",
     "output_type": "stream",
     "text": [
      "\u001b[46m02 11:25:26.27\u001b[0m \u001b[47m|\u001b[0m \u001b[94mDebug\u001b[0m \u001b[47m|\u001b[0m \u001b[34m[Program] This is a debug message\u001b[0m\n",
      "\u001b[46m02 11:25:26.27\u001b[0m \u001b[47m|\u001b[0m \u001b[92mInfo \u001b[0m \u001b[47m|\u001b[0m \u001b[36m[Program] This is an info message\u001b[0m\n",
      "\u001b[46m02 11:25:26.27\u001b[0m \u001b[47m|\u001b[0m \u001b[93mWarn \u001b[0m \u001b[47m|\u001b[0m \u001b[33m[Program] This is a warning message\u001b[0m\n",
      "\u001b[46m02 11:25:26.28\u001b[0m \u001b[47m|\u001b[0m \u001b[101m\u001b[37mErr  \u001b[0m \u001b[47m|\u001b[0m \u001b[31m[Program] This is an error message\u001b[0m\n",
      "\u001b[46m02 11:25:26.28\u001b[0m \u001b[47m|\u001b[0m \u001b[101m\u001b[37mCrit \u001b[0m \u001b[47m|\u001b[0m \u001b[101m\u001b[37m[Program] This is a critical message\u001b[0m\n"
     ]
    }
   ],
   "source": [
    "Log.DateColor = Log.ColorConstants.BG_CYAN;\n",
    "Log.SeparatorColor = Log.ColorConstants.BG_WHITE;\n",
    "\n",
    "Log.MessageColors.Info = Log.ColorConstants.CYAN;\n",
    "\n",
    "Log.Debug(\"This is a debug message\");\n",
    "Log.Info(\"This is an info message\");\n",
    "Log.Warn(\"This is a warning message\");\n",
    "Log.Error(\"This is an error message\");\n",
    "Log.Critical(\"This is a critical message\");"
   ]
  }
 ],
 "metadata": {
  "kernelspec": {
   "display_name": ".NET (C#)",
   "language": "C#",
   "name": ".net-csharp"
  },
  "polyglot_notebook": {
   "kernelInfo": {
    "defaultKernelName": "csharp",
    "items": [
     {
      "aliases": [],
      "languageName": "csharp",
      "name": "csharp"
     }
    ]
   }
  }
 },
 "nbformat": 4,
 "nbformat_minor": 2
}
